{
 "cells": [
  {
   "cell_type": "code",
   "execution_count": 1,
   "id": "63eac1a7",
   "metadata": {
    "_cell_guid": "b1076dfc-b9ad-4769-8c92-a6c4dae69d19",
    "_uuid": "8f2839f25d086af736a60e9eeb907d3b93b6e0e5",
    "execution": {
     "iopub.execute_input": "2022-07-29T08:01:46.487396Z",
     "iopub.status.busy": "2022-07-29T08:01:46.486533Z",
     "iopub.status.idle": "2022-07-29T08:01:55.909839Z",
     "shell.execute_reply": "2022-07-29T08:01:55.908618Z"
    },
    "papermill": {
     "duration": 9.441072,
     "end_time": "2022-07-29T08:01:55.912740",
     "exception": false,
     "start_time": "2022-07-29T08:01:46.471668",
     "status": "completed"
    },
    "tags": []
   },
   "outputs": [],
   "source": [
    "import numpy as np\n",
    "import pandas as pd\n",
    "import matplotlib.pyplot as plt\n",
    "import seaborn as sns\n",
    "import warnings \n",
    "warnings.filterwarnings('ignore')\n",
    "import tensorflow as tf\n",
    "from tensorflow import keras\n",
    "from sklearn import metrics\n",
    "from sklearn.model_selection import train_test_split,cross_val_score,GridSearchCV,RepeatedKFold\n",
    "from sklearn.linear_model import LinearRegression\n",
    "from sklearn.tree import DecisionTreeRegressor\n",
    "from sklearn.ensemble import RandomForestRegressor\n",
    "from sklearn.preprocessing import PolynomialFeatures,StandardScaler\n",
    "from sklearn.metrics import r2_score,mean_squared_error\n",
    "from statsmodels.regression.linear_model import OLS\n",
    "import statsmodels.regression.linear_model as sf\n",
    "from xgboost import XGBRegressor"
   ]
  },
  {
   "cell_type": "code",
   "execution_count": 2,
   "id": "4314a677",
   "metadata": {
    "execution": {
     "iopub.execute_input": "2022-07-29T08:01:55.940097Z",
     "iopub.status.busy": "2022-07-29T08:01:55.939474Z",
     "iopub.status.idle": "2022-07-29T08:01:56.510465Z",
     "shell.execute_reply": "2022-07-29T08:01:56.509435Z"
    },
    "papermill": {
     "duration": 0.587204,
     "end_time": "2022-07-29T08:01:56.512793",
     "exception": false,
     "start_time": "2022-07-29T08:01:55.925589",
     "status": "completed"
    },
    "tags": []
   },
   "outputs": [
    {
     "data": {
      "text/html": [
       "<div>\n",
       "<style scoped>\n",
       "    .dataframe tbody tr th:only-of-type {\n",
       "        vertical-align: middle;\n",
       "    }\n",
       "\n",
       "    .dataframe tbody tr th {\n",
       "        vertical-align: top;\n",
       "    }\n",
       "\n",
       "    .dataframe thead th {\n",
       "        text-align: right;\n",
       "    }\n",
       "</style>\n",
       "<table border=\"1\" class=\"dataframe\">\n",
       "  <thead>\n",
       "    <tr style=\"text-align: right;\">\n",
       "      <th></th>\n",
       "      <th>STA</th>\n",
       "      <th>Date</th>\n",
       "      <th>Precip</th>\n",
       "      <th>WindGustSpd</th>\n",
       "      <th>MaxTemp</th>\n",
       "      <th>MinTemp</th>\n",
       "      <th>MeanTemp</th>\n",
       "      <th>Snowfall</th>\n",
       "      <th>PoorWeather</th>\n",
       "      <th>YR</th>\n",
       "      <th>...</th>\n",
       "      <th>FB</th>\n",
       "      <th>FTI</th>\n",
       "      <th>ITH</th>\n",
       "      <th>PGT</th>\n",
       "      <th>TSHDSBRSGF</th>\n",
       "      <th>SD3</th>\n",
       "      <th>RHX</th>\n",
       "      <th>RHN</th>\n",
       "      <th>RVG</th>\n",
       "      <th>WTE</th>\n",
       "    </tr>\n",
       "  </thead>\n",
       "  <tbody>\n",
       "    <tr>\n",
       "      <th>0</th>\n",
       "      <td>10001</td>\n",
       "      <td>1942-7-1</td>\n",
       "      <td>1.016</td>\n",
       "      <td>NaN</td>\n",
       "      <td>25.555556</td>\n",
       "      <td>22.222222</td>\n",
       "      <td>23.888889</td>\n",
       "      <td>0.0</td>\n",
       "      <td>NaN</td>\n",
       "      <td>42</td>\n",
       "      <td>...</td>\n",
       "      <td>NaN</td>\n",
       "      <td>NaN</td>\n",
       "      <td>NaN</td>\n",
       "      <td>NaN</td>\n",
       "      <td>NaN</td>\n",
       "      <td>NaN</td>\n",
       "      <td>NaN</td>\n",
       "      <td>NaN</td>\n",
       "      <td>NaN</td>\n",
       "      <td>NaN</td>\n",
       "    </tr>\n",
       "    <tr>\n",
       "      <th>1</th>\n",
       "      <td>10001</td>\n",
       "      <td>1942-7-2</td>\n",
       "      <td>0</td>\n",
       "      <td>NaN</td>\n",
       "      <td>28.888889</td>\n",
       "      <td>21.666667</td>\n",
       "      <td>25.555556</td>\n",
       "      <td>0.0</td>\n",
       "      <td>NaN</td>\n",
       "      <td>42</td>\n",
       "      <td>...</td>\n",
       "      <td>NaN</td>\n",
       "      <td>NaN</td>\n",
       "      <td>NaN</td>\n",
       "      <td>NaN</td>\n",
       "      <td>NaN</td>\n",
       "      <td>NaN</td>\n",
       "      <td>NaN</td>\n",
       "      <td>NaN</td>\n",
       "      <td>NaN</td>\n",
       "      <td>NaN</td>\n",
       "    </tr>\n",
       "    <tr>\n",
       "      <th>2</th>\n",
       "      <td>10001</td>\n",
       "      <td>1942-7-3</td>\n",
       "      <td>2.54</td>\n",
       "      <td>NaN</td>\n",
       "      <td>26.111111</td>\n",
       "      <td>22.222222</td>\n",
       "      <td>24.444444</td>\n",
       "      <td>0.0</td>\n",
       "      <td>NaN</td>\n",
       "      <td>42</td>\n",
       "      <td>...</td>\n",
       "      <td>NaN</td>\n",
       "      <td>NaN</td>\n",
       "      <td>NaN</td>\n",
       "      <td>NaN</td>\n",
       "      <td>NaN</td>\n",
       "      <td>NaN</td>\n",
       "      <td>NaN</td>\n",
       "      <td>NaN</td>\n",
       "      <td>NaN</td>\n",
       "      <td>NaN</td>\n",
       "    </tr>\n",
       "    <tr>\n",
       "      <th>3</th>\n",
       "      <td>10001</td>\n",
       "      <td>1942-7-4</td>\n",
       "      <td>2.54</td>\n",
       "      <td>NaN</td>\n",
       "      <td>26.666667</td>\n",
       "      <td>22.222222</td>\n",
       "      <td>24.444444</td>\n",
       "      <td>0.0</td>\n",
       "      <td>NaN</td>\n",
       "      <td>42</td>\n",
       "      <td>...</td>\n",
       "      <td>NaN</td>\n",
       "      <td>NaN</td>\n",
       "      <td>NaN</td>\n",
       "      <td>NaN</td>\n",
       "      <td>NaN</td>\n",
       "      <td>NaN</td>\n",
       "      <td>NaN</td>\n",
       "      <td>NaN</td>\n",
       "      <td>NaN</td>\n",
       "      <td>NaN</td>\n",
       "    </tr>\n",
       "    <tr>\n",
       "      <th>4</th>\n",
       "      <td>10001</td>\n",
       "      <td>1942-7-5</td>\n",
       "      <td>0</td>\n",
       "      <td>NaN</td>\n",
       "      <td>26.666667</td>\n",
       "      <td>21.666667</td>\n",
       "      <td>24.444444</td>\n",
       "      <td>0.0</td>\n",
       "      <td>NaN</td>\n",
       "      <td>42</td>\n",
       "      <td>...</td>\n",
       "      <td>NaN</td>\n",
       "      <td>NaN</td>\n",
       "      <td>NaN</td>\n",
       "      <td>NaN</td>\n",
       "      <td>NaN</td>\n",
       "      <td>NaN</td>\n",
       "      <td>NaN</td>\n",
       "      <td>NaN</td>\n",
       "      <td>NaN</td>\n",
       "      <td>NaN</td>\n",
       "    </tr>\n",
       "    <tr>\n",
       "      <th>...</th>\n",
       "      <td>...</td>\n",
       "      <td>...</td>\n",
       "      <td>...</td>\n",
       "      <td>...</td>\n",
       "      <td>...</td>\n",
       "      <td>...</td>\n",
       "      <td>...</td>\n",
       "      <td>...</td>\n",
       "      <td>...</td>\n",
       "      <td>...</td>\n",
       "      <td>...</td>\n",
       "      <td>...</td>\n",
       "      <td>...</td>\n",
       "      <td>...</td>\n",
       "      <td>...</td>\n",
       "      <td>...</td>\n",
       "      <td>...</td>\n",
       "      <td>...</td>\n",
       "      <td>...</td>\n",
       "      <td>...</td>\n",
       "      <td>...</td>\n",
       "    </tr>\n",
       "    <tr>\n",
       "      <th>119035</th>\n",
       "      <td>82506</td>\n",
       "      <td>1945-12-27</td>\n",
       "      <td>0</td>\n",
       "      <td>NaN</td>\n",
       "      <td>28.333333</td>\n",
       "      <td>18.333333</td>\n",
       "      <td>23.333333</td>\n",
       "      <td>0.0</td>\n",
       "      <td>NaN</td>\n",
       "      <td>45</td>\n",
       "      <td>...</td>\n",
       "      <td>NaN</td>\n",
       "      <td>NaN</td>\n",
       "      <td>NaN</td>\n",
       "      <td>NaN</td>\n",
       "      <td>NaN</td>\n",
       "      <td>NaN</td>\n",
       "      <td>NaN</td>\n",
       "      <td>NaN</td>\n",
       "      <td>NaN</td>\n",
       "      <td>NaN</td>\n",
       "    </tr>\n",
       "    <tr>\n",
       "      <th>119036</th>\n",
       "      <td>82506</td>\n",
       "      <td>1945-12-28</td>\n",
       "      <td>9.906</td>\n",
       "      <td>NaN</td>\n",
       "      <td>29.444444</td>\n",
       "      <td>18.333333</td>\n",
       "      <td>23.888889</td>\n",
       "      <td>0.0</td>\n",
       "      <td>1.0</td>\n",
       "      <td>45</td>\n",
       "      <td>...</td>\n",
       "      <td>NaN</td>\n",
       "      <td>NaN</td>\n",
       "      <td>NaN</td>\n",
       "      <td>NaN</td>\n",
       "      <td>1.0</td>\n",
       "      <td>NaN</td>\n",
       "      <td>NaN</td>\n",
       "      <td>NaN</td>\n",
       "      <td>NaN</td>\n",
       "      <td>NaN</td>\n",
       "    </tr>\n",
       "    <tr>\n",
       "      <th>119037</th>\n",
       "      <td>82506</td>\n",
       "      <td>1945-12-29</td>\n",
       "      <td>0</td>\n",
       "      <td>NaN</td>\n",
       "      <td>28.333333</td>\n",
       "      <td>18.333333</td>\n",
       "      <td>23.333333</td>\n",
       "      <td>0.0</td>\n",
       "      <td>1.0</td>\n",
       "      <td>45</td>\n",
       "      <td>...</td>\n",
       "      <td>NaN</td>\n",
       "      <td>NaN</td>\n",
       "      <td>NaN</td>\n",
       "      <td>NaN</td>\n",
       "      <td>1.0</td>\n",
       "      <td>NaN</td>\n",
       "      <td>NaN</td>\n",
       "      <td>NaN</td>\n",
       "      <td>NaN</td>\n",
       "      <td>NaN</td>\n",
       "    </tr>\n",
       "    <tr>\n",
       "      <th>119038</th>\n",
       "      <td>82506</td>\n",
       "      <td>1945-12-30</td>\n",
       "      <td>0</td>\n",
       "      <td>NaN</td>\n",
       "      <td>28.333333</td>\n",
       "      <td>18.333333</td>\n",
       "      <td>23.333333</td>\n",
       "      <td>0.0</td>\n",
       "      <td>NaN</td>\n",
       "      <td>45</td>\n",
       "      <td>...</td>\n",
       "      <td>NaN</td>\n",
       "      <td>NaN</td>\n",
       "      <td>NaN</td>\n",
       "      <td>NaN</td>\n",
       "      <td>NaN</td>\n",
       "      <td>NaN</td>\n",
       "      <td>NaN</td>\n",
       "      <td>NaN</td>\n",
       "      <td>NaN</td>\n",
       "      <td>NaN</td>\n",
       "    </tr>\n",
       "    <tr>\n",
       "      <th>119039</th>\n",
       "      <td>82506</td>\n",
       "      <td>1945-12-31</td>\n",
       "      <td>0</td>\n",
       "      <td>NaN</td>\n",
       "      <td>29.444444</td>\n",
       "      <td>17.222222</td>\n",
       "      <td>23.333333</td>\n",
       "      <td>0.0</td>\n",
       "      <td>NaN</td>\n",
       "      <td>45</td>\n",
       "      <td>...</td>\n",
       "      <td>NaN</td>\n",
       "      <td>NaN</td>\n",
       "      <td>NaN</td>\n",
       "      <td>NaN</td>\n",
       "      <td>NaN</td>\n",
       "      <td>NaN</td>\n",
       "      <td>NaN</td>\n",
       "      <td>NaN</td>\n",
       "      <td>NaN</td>\n",
       "      <td>NaN</td>\n",
       "    </tr>\n",
       "  </tbody>\n",
       "</table>\n",
       "<p>119040 rows × 31 columns</p>\n",
       "</div>"
      ],
      "text/plain": [
       "          STA        Date Precip  WindGustSpd    MaxTemp    MinTemp  \\\n",
       "0       10001    1942-7-1  1.016          NaN  25.555556  22.222222   \n",
       "1       10001    1942-7-2      0          NaN  28.888889  21.666667   \n",
       "2       10001    1942-7-3   2.54          NaN  26.111111  22.222222   \n",
       "3       10001    1942-7-4   2.54          NaN  26.666667  22.222222   \n",
       "4       10001    1942-7-5      0          NaN  26.666667  21.666667   \n",
       "...       ...         ...    ...          ...        ...        ...   \n",
       "119035  82506  1945-12-27      0          NaN  28.333333  18.333333   \n",
       "119036  82506  1945-12-28  9.906          NaN  29.444444  18.333333   \n",
       "119037  82506  1945-12-29      0          NaN  28.333333  18.333333   \n",
       "119038  82506  1945-12-30      0          NaN  28.333333  18.333333   \n",
       "119039  82506  1945-12-31      0          NaN  29.444444  17.222222   \n",
       "\n",
       "         MeanTemp Snowfall PoorWeather  YR  ...  FB  FTI ITH  PGT  TSHDSBRSGF  \\\n",
       "0       23.888889      0.0         NaN  42  ... NaN  NaN NaN  NaN         NaN   \n",
       "1       25.555556      0.0         NaN  42  ... NaN  NaN NaN  NaN         NaN   \n",
       "2       24.444444      0.0         NaN  42  ... NaN  NaN NaN  NaN         NaN   \n",
       "3       24.444444      0.0         NaN  42  ... NaN  NaN NaN  NaN         NaN   \n",
       "4       24.444444      0.0         NaN  42  ... NaN  NaN NaN  NaN         NaN   \n",
       "...           ...      ...         ...  ..  ...  ..  ...  ..  ...         ...   \n",
       "119035  23.333333      0.0         NaN  45  ... NaN  NaN NaN  NaN         NaN   \n",
       "119036  23.888889      0.0         1.0  45  ... NaN  NaN NaN  NaN         1.0   \n",
       "119037  23.333333      0.0         1.0  45  ... NaN  NaN NaN  NaN         1.0   \n",
       "119038  23.333333      0.0         NaN  45  ... NaN  NaN NaN  NaN         NaN   \n",
       "119039  23.333333      0.0         NaN  45  ... NaN  NaN NaN  NaN         NaN   \n",
       "\n",
       "        SD3  RHX  RHN RVG  WTE  \n",
       "0       NaN  NaN  NaN NaN  NaN  \n",
       "1       NaN  NaN  NaN NaN  NaN  \n",
       "2       NaN  NaN  NaN NaN  NaN  \n",
       "3       NaN  NaN  NaN NaN  NaN  \n",
       "4       NaN  NaN  NaN NaN  NaN  \n",
       "...     ...  ...  ...  ..  ...  \n",
       "119035  NaN  NaN  NaN NaN  NaN  \n",
       "119036  NaN  NaN  NaN NaN  NaN  \n",
       "119037  NaN  NaN  NaN NaN  NaN  \n",
       "119038  NaN  NaN  NaN NaN  NaN  \n",
       "119039  NaN  NaN  NaN NaN  NaN  \n",
       "\n",
       "[119040 rows x 31 columns]"
      ]
     },
     "execution_count": 2,
     "metadata": {},
     "output_type": "execute_result"
    }
   ],
   "source": [
    "data=pd.read_csv('../input/weatherww2/Summary of Weather.csv')\n",
    "data"
   ]
  },
  {
   "cell_type": "code",
   "execution_count": 3,
   "id": "e41f1b6a",
   "metadata": {
    "execution": {
     "iopub.execute_input": "2022-07-29T08:01:56.540984Z",
     "iopub.status.busy": "2022-07-29T08:01:56.540033Z",
     "iopub.status.idle": "2022-07-29T08:01:56.546207Z",
     "shell.execute_reply": "2022-07-29T08:01:56.545505Z"
    },
    "papermill": {
     "duration": 0.022244,
     "end_time": "2022-07-29T08:01:56.548092",
     "exception": false,
     "start_time": "2022-07-29T08:01:56.525848",
     "status": "completed"
    },
    "tags": []
   },
   "outputs": [
    {
     "data": {
      "text/plain": [
       "Index(['STA', 'Date', 'Precip', 'WindGustSpd', 'MaxTemp', 'MinTemp',\n",
       "       'MeanTemp', 'Snowfall', 'PoorWeather', 'YR', 'MO', 'DA', 'PRCP', 'DR',\n",
       "       'SPD', 'MAX', 'MIN', 'MEA', 'SNF', 'SND', 'FT', 'FB', 'FTI', 'ITH',\n",
       "       'PGT', 'TSHDSBRSGF', 'SD3', 'RHX', 'RHN', 'RVG', 'WTE'],\n",
       "      dtype='object')"
      ]
     },
     "execution_count": 3,
     "metadata": {},
     "output_type": "execute_result"
    }
   ],
   "source": [
    "data.columns"
   ]
  },
  {
   "cell_type": "code",
   "execution_count": 4,
   "id": "6a837c8f",
   "metadata": {
    "execution": {
     "iopub.execute_input": "2022-07-29T08:01:56.577133Z",
     "iopub.status.busy": "2022-07-29T08:01:56.575999Z",
     "iopub.status.idle": "2022-07-29T08:01:56.671681Z",
     "shell.execute_reply": "2022-07-29T08:01:56.669370Z"
    },
    "papermill": {
     "duration": 0.113257,
     "end_time": "2022-07-29T08:01:56.674105",
     "exception": false,
     "start_time": "2022-07-29T08:01:56.560848",
     "status": "completed"
    },
    "tags": []
   },
   "outputs": [
    {
     "name": "stdout",
     "output_type": "stream",
     "text": [
      "<class 'pandas.core.frame.DataFrame'>\n",
      "RangeIndex: 119040 entries, 0 to 119039\n",
      "Data columns (total 31 columns):\n",
      " #   Column       Non-Null Count   Dtype  \n",
      "---  ------       --------------   -----  \n",
      " 0   STA          119040 non-null  int64  \n",
      " 1   Date         119040 non-null  object \n",
      " 2   Precip       119040 non-null  object \n",
      " 3   WindGustSpd  532 non-null     float64\n",
      " 4   MaxTemp      119040 non-null  float64\n",
      " 5   MinTemp      119040 non-null  float64\n",
      " 6   MeanTemp     119040 non-null  float64\n",
      " 7   Snowfall     117877 non-null  object \n",
      " 8   PoorWeather  34237 non-null   object \n",
      " 9   YR           119040 non-null  int64  \n",
      " 10  MO           119040 non-null  int64  \n",
      " 11  DA           119040 non-null  int64  \n",
      " 12  PRCP         117108 non-null  object \n",
      " 13  DR           533 non-null     float64\n",
      " 14  SPD          532 non-null     float64\n",
      " 15  MAX          118566 non-null  float64\n",
      " 16  MIN          118572 non-null  float64\n",
      " 17  MEA          118542 non-null  float64\n",
      " 18  SNF          117877 non-null  object \n",
      " 19  SND          5563 non-null    float64\n",
      " 20  FT           0 non-null       float64\n",
      " 21  FB           0 non-null       float64\n",
      " 22  FTI          0 non-null       float64\n",
      " 23  ITH          0 non-null       float64\n",
      " 24  PGT          525 non-null     float64\n",
      " 25  TSHDSBRSGF   34237 non-null   object \n",
      " 26  SD3          0 non-null       float64\n",
      " 27  RHX          0 non-null       float64\n",
      " 28  RHN          0 non-null       float64\n",
      " 29  RVG          0 non-null       float64\n",
      " 30  WTE          0 non-null       float64\n",
      "dtypes: float64(20), int64(4), object(7)\n",
      "memory usage: 28.2+ MB\n"
     ]
    }
   ],
   "source": [
    "data.info()"
   ]
  },
  {
   "cell_type": "code",
   "execution_count": 5,
   "id": "0ba789a2",
   "metadata": {
    "execution": {
     "iopub.execute_input": "2022-07-29T08:01:56.702354Z",
     "iopub.status.busy": "2022-07-29T08:01:56.701727Z",
     "iopub.status.idle": "2022-07-29T08:01:56.781459Z",
     "shell.execute_reply": "2022-07-29T08:01:56.780288Z"
    },
    "papermill": {
     "duration": 0.096072,
     "end_time": "2022-07-29T08:01:56.783659",
     "exception": false,
     "start_time": "2022-07-29T08:01:56.687587",
     "status": "completed"
    },
    "tags": []
   },
   "outputs": [
    {
     "data": {
      "text/plain": [
       "STA                 0\n",
       "Date                0\n",
       "Precip              0\n",
       "WindGustSpd    118508\n",
       "MaxTemp             0\n",
       "MinTemp             0\n",
       "MeanTemp            0\n",
       "Snowfall         1163\n",
       "PoorWeather     84803\n",
       "YR                  0\n",
       "MO                  0\n",
       "DA                  0\n",
       "PRCP             1932\n",
       "DR             118507\n",
       "SPD            118508\n",
       "MAX               474\n",
       "MIN               468\n",
       "MEA               498\n",
       "SNF              1163\n",
       "SND            113477\n",
       "FT             119040\n",
       "FB             119040\n",
       "FTI            119040\n",
       "ITH            119040\n",
       "PGT            118515\n",
       "TSHDSBRSGF      84803\n",
       "SD3            119040\n",
       "RHX            119040\n",
       "RHN            119040\n",
       "RVG            119040\n",
       "WTE            119040\n",
       "dtype: int64"
      ]
     },
     "execution_count": 5,
     "metadata": {},
     "output_type": "execute_result"
    }
   ],
   "source": [
    "data.isnull().sum()"
   ]
  },
  {
   "cell_type": "code",
   "execution_count": 6,
   "id": "2ceffa4f",
   "metadata": {
    "execution": {
     "iopub.execute_input": "2022-07-29T08:01:56.812610Z",
     "iopub.status.busy": "2022-07-29T08:01:56.811893Z",
     "iopub.status.idle": "2022-07-29T08:01:56.817416Z",
     "shell.execute_reply": "2022-07-29T08:01:56.816613Z"
    },
    "papermill": {
     "duration": 0.022278,
     "end_time": "2022-07-29T08:01:56.819378",
     "exception": false,
     "start_time": "2022-07-29T08:01:56.797100",
     "status": "completed"
    },
    "tags": []
   },
   "outputs": [],
   "source": [
    "weather=data[['MaxTemp','MinTemp']]"
   ]
  },
  {
   "cell_type": "code",
   "execution_count": 7,
   "id": "f1d24fbb",
   "metadata": {
    "execution": {
     "iopub.execute_input": "2022-07-29T08:01:56.847935Z",
     "iopub.status.busy": "2022-07-29T08:01:56.847093Z",
     "iopub.status.idle": "2022-07-29T08:01:57.399776Z",
     "shell.execute_reply": "2022-07-29T08:01:57.398659Z"
    },
    "papermill": {
     "duration": 0.569643,
     "end_time": "2022-07-29T08:01:57.402191",
     "exception": false,
     "start_time": "2022-07-29T08:01:56.832548",
     "status": "completed"
    },
    "tags": []
   },
   "outputs": [
    {
     "data": {
      "image/png": "[encoded data removed]",
      "text/plain": [
       "<Figure size 432x288 with 1 Axes>"
      ]
     },
     "metadata": {
      "needs_background": "light"
     },
     "output_type": "display_data"
    }
   ],
   "source": [
    "weather.plot(x='MinTemp', y='MaxTemp', style='o')  \n",
    "plt.title('MinTemp vs MaxTemp')  \n",
    "plt.xlabel('MinTemp')  \n",
    "plt.ylabel('MaxTemp')  \n",
    "plt.show()"
   ]
  },
  {
   "cell_type": "code",
   "execution_count": 8,
   "id": "25b2172a",
   "metadata": {
    "execution": {
     "iopub.execute_input": "2022-07-29T08:01:57.432052Z",
     "iopub.status.busy": "2022-07-29T08:01:57.431378Z",
     "iopub.status.idle": "2022-07-29T08:01:57.460750Z",
     "shell.execute_reply": "2022-07-29T08:01:57.459589Z"
    },
    "papermill": {
     "duration": 0.047071,
     "end_time": "2022-07-29T08:01:57.463088",
     "exception": false,
     "start_time": "2022-07-29T08:01:57.416017",
     "status": "completed"
    },
    "tags": []
   },
   "outputs": [
    {
     "data": {
      "text/html": [
       "<div>\n",
       "<style scoped>\n",
       "    .dataframe tbody tr th:only-of-type {\n",
       "        vertical-align: middle;\n",
       "    }\n",
       "\n",
       "    .dataframe tbody tr th {\n",
       "        vertical-align: top;\n",
       "    }\n",
       "\n",
       "    .dataframe thead th {\n",
       "        text-align: right;\n",
       "    }\n",
       "</style>\n",
       "<table border=\"1\" class=\"dataframe\">\n",
       "  <thead>\n",
       "    <tr style=\"text-align: right;\">\n",
       "      <th></th>\n",
       "      <th>MaxTemp</th>\n",
       "      <th>MinTemp</th>\n",
       "    </tr>\n",
       "  </thead>\n",
       "  <tbody>\n",
       "    <tr>\n",
       "      <th>count</th>\n",
       "      <td>119040.000000</td>\n",
       "      <td>119040.000000</td>\n",
       "    </tr>\n",
       "    <tr>\n",
       "      <th>mean</th>\n",
       "      <td>27.045111</td>\n",
       "      <td>17.789511</td>\n",
       "    </tr>\n",
       "    <tr>\n",
       "      <th>std</th>\n",
       "      <td>8.717817</td>\n",
       "      <td>8.334572</td>\n",
       "    </tr>\n",
       "    <tr>\n",
       "      <th>min</th>\n",
       "      <td>-33.333333</td>\n",
       "      <td>-38.333333</td>\n",
       "    </tr>\n",
       "    <tr>\n",
       "      <th>25%</th>\n",
       "      <td>25.555556</td>\n",
       "      <td>15.000000</td>\n",
       "    </tr>\n",
       "    <tr>\n",
       "      <th>50%</th>\n",
       "      <td>29.444444</td>\n",
       "      <td>21.111111</td>\n",
       "    </tr>\n",
       "    <tr>\n",
       "      <th>75%</th>\n",
       "      <td>31.666667</td>\n",
       "      <td>23.333333</td>\n",
       "    </tr>\n",
       "    <tr>\n",
       "      <th>max</th>\n",
       "      <td>50.000000</td>\n",
       "      <td>34.444444</td>\n",
       "    </tr>\n",
       "  </tbody>\n",
       "</table>\n",
       "</div>"
      ],
      "text/plain": [
       "             MaxTemp        MinTemp\n",
       "count  119040.000000  119040.000000\n",
       "mean       27.045111      17.789511\n",
       "std         8.717817       8.334572\n",
       "min       -33.333333     -38.333333\n",
       "25%        25.555556      15.000000\n",
       "50%        29.444444      21.111111\n",
       "75%        31.666667      23.333333\n",
       "max        50.000000      34.444444"
      ]
     },
     "execution_count": 8,
     "metadata": {},
     "output_type": "execute_result"
    }
   ],
   "source": [
    "weather.describe()"
   ]
  },
  {
   "cell_type": "code",
   "execution_count": 9,
   "id": "34df68a1",
   "metadata": {
    "execution": {
     "iopub.execute_input": "2022-07-29T08:01:57.493441Z",
     "iopub.status.busy": "2022-07-29T08:01:57.492660Z",
     "iopub.status.idle": "2022-07-29T08:01:57.693456Z",
     "shell.execute_reply": "2022-07-29T08:01:57.692654Z"
    },
    "papermill": {
     "duration": 0.218679,
     "end_time": "2022-07-29T08:01:57.695739",
     "exception": false,
     "start_time": "2022-07-29T08:01:57.477060",
     "status": "completed"
    },
    "tags": []
   },
   "outputs": [
    {
     "data": {
      "text/plain": [
       "<AxesSubplot:>"
      ]
     },
     "execution_count": 9,
     "metadata": {},
     "output_type": "execute_result"
    },
    {
     "data": {
      "image/png": "[encoded data removed]",
      "text/plain": [
       "<Figure size 432x288 with 2 Axes>"
      ]
     },
     "metadata": {
      "needs_background": "light"
     },
     "output_type": "display_data"
    }
   ],
   "source": [
    "sns.heatmap(weather.corr(),annot=True)"
   ]
  },
  {
   "cell_type": "code",
   "execution_count": 10,
   "id": "29664a98",
   "metadata": {
    "execution": {
     "iopub.execute_input": "2022-07-29T08:01:57.726494Z",
     "iopub.status.busy": "2022-07-29T08:01:57.726096Z",
     "iopub.status.idle": "2022-07-29T08:01:57.731410Z",
     "shell.execute_reply": "2022-07-29T08:01:57.730189Z"
    },
    "papermill": {
     "duration": 0.023293,
     "end_time": "2022-07-29T08:01:57.733508",
     "exception": false,
     "start_time": "2022-07-29T08:01:57.710215",
     "status": "completed"
    },
    "tags": []
   },
   "outputs": [],
   "source": [
    "x=weather['MinTemp']\n",
    "y=weather['MaxTemp']"
   ]
  },
  {
   "cell_type": "code",
   "execution_count": 11,
   "id": "10d703ed",
   "metadata": {
    "execution": {
     "iopub.execute_input": "2022-07-29T08:01:57.764779Z",
     "iopub.status.busy": "2022-07-29T08:01:57.763794Z",
     "iopub.status.idle": "2022-07-29T08:01:57.770546Z",
     "shell.execute_reply": "2022-07-29T08:01:57.769722Z"
    },
    "papermill": {
     "duration": 0.024437,
     "end_time": "2022-07-29T08:01:57.772643",
     "exception": false,
     "start_time": "2022-07-29T08:01:57.748206",
     "status": "completed"
    },
    "tags": []
   },
   "outputs": [],
   "source": [
    "x=np.array(weather['MinTemp']).reshape(-1,1)\n",
    "y=np.array(weather['MaxTemp']).reshape(-1,1)"
   ]
  },
  {
   "cell_type": "code",
   "execution_count": 12,
   "id": "c822e6df",
   "metadata": {
    "execution": {
     "iopub.execute_input": "2022-07-29T08:01:57.803653Z",
     "iopub.status.busy": "2022-07-29T08:01:57.802907Z",
     "iopub.status.idle": "2022-07-29T08:01:57.813515Z",
     "shell.execute_reply": "2022-07-29T08:01:57.812652Z"
    },
    "papermill": {
     "duration": 0.028719,
     "end_time": "2022-07-29T08:01:57.815721",
     "exception": false,
     "start_time": "2022-07-29T08:01:57.787002",
     "status": "completed"
    },
    "tags": []
   },
   "outputs": [],
   "source": [
    "x_train,x_test,y_train,y_test=train_test_split(x,y,test_size=0.30,random_state=500)"
   ]
  },
  {
   "cell_type": "code",
   "execution_count": 13,
   "id": "77d9804b",
   "metadata": {
    "execution": {
     "iopub.execute_input": "2022-07-29T08:01:57.846307Z",
     "iopub.status.busy": "2022-07-29T08:01:57.845931Z",
     "iopub.status.idle": "2022-07-29T08:01:57.851387Z",
     "shell.execute_reply": "2022-07-29T08:01:57.850326Z"
    },
    "papermill": {
     "duration": 0.023914,
     "end_time": "2022-07-29T08:01:57.853951",
     "exception": false,
     "start_time": "2022-07-29T08:01:57.830037",
     "status": "completed"
    },
    "tags": []
   },
   "outputs": [
    {
     "name": "stdout",
     "output_type": "stream",
     "text": [
      "(83328, 1)\n",
      "(35712, 1)\n",
      "(83328, 1)\n",
      "(35712, 1)\n"
     ]
    }
   ],
   "source": [
    "print(x_train.shape)\n",
    "print(x_test.shape)\n",
    "print(y_train.shape)\n",
    "print(y_test.shape)"
   ]
  },
  {
   "cell_type": "markdown",
   "id": "72a71f99",
   "metadata": {
    "papermill": {
     "duration": 0.014603,
     "end_time": "2022-07-29T08:01:57.883191",
     "exception": false,
     "start_time": "2022-07-29T08:01:57.868588",
     "status": "completed"
    },
    "tags": []
   },
   "source": [
    "# LINEAR REGRESSION"
   ]
  },
  {
   "cell_type": "code",
   "execution_count": 14,
   "id": "6022cb52",
   "metadata": {
    "execution": {
     "iopub.execute_input": "2022-07-29T08:01:57.914718Z",
     "iopub.status.busy": "2022-07-29T08:01:57.914355Z",
     "iopub.status.idle": "2022-07-29T08:01:57.938554Z",
     "shell.execute_reply": "2022-07-29T08:01:57.937188Z"
    },
    "papermill": {
     "duration": 0.042782,
     "end_time": "2022-07-29T08:01:57.940890",
     "exception": false,
     "start_time": "2022-07-29T08:01:57.898108",
     "status": "completed"
    },
    "tags": []
   },
   "outputs": [
    {
     "data": {
      "text/plain": [
       "LinearRegression()"
      ]
     },
     "execution_count": 14,
     "metadata": {},
     "output_type": "execute_result"
    }
   ],
   "source": [
    "lr=LinearRegression()\n",
    "lr.fit(x_train,y_train)"
   ]
  },
  {
   "cell_type": "markdown",
   "id": "6dee6578",
   "metadata": {
    "papermill": {
     "duration": 0.014253,
     "end_time": "2022-07-29T08:01:57.970267",
     "exception": false,
     "start_time": "2022-07-29T08:01:57.956014",
     "status": "completed"
    },
    "tags": []
   },
   "source": []
  },
  {
   "cell_type": "code",
   "execution_count": 15,
   "id": "3152695a",
   "metadata": {
    "execution": {
     "iopub.execute_input": "2022-07-29T08:01:58.002297Z",
     "iopub.status.busy": "2022-07-29T08:01:58.001299Z",
     "iopub.status.idle": "2022-07-29T08:01:58.009242Z",
     "shell.execute_reply": "2022-07-29T08:01:58.007943Z"
    },
    "papermill": {
     "duration": 0.02675,
     "end_time": "2022-07-29T08:01:58.011619",
     "exception": false,
     "start_time": "2022-07-29T08:01:57.984869",
     "status": "completed"
    },
    "tags": []
   },
   "outputs": [],
   "source": [
    "y_pred_lr=lr.predict(x_test)"
   ]
  },
  {
   "cell_type": "code",
   "execution_count": 16,
   "id": "32d3e75a",
   "metadata": {
    "execution": {
     "iopub.execute_input": "2022-07-29T08:01:58.043491Z",
     "iopub.status.busy": "2022-07-29T08:01:58.042749Z",
     "iopub.status.idle": "2022-07-29T08:01:58.050062Z",
     "shell.execute_reply": "2022-07-29T08:01:58.048494Z"
    },
    "papermill": {
     "duration": 0.025865,
     "end_time": "2022-07-29T08:01:58.052353",
     "exception": false,
     "start_time": "2022-07-29T08:01:58.026488",
     "status": "completed"
    },
    "tags": []
   },
   "outputs": [
    {
     "name": "stdout",
     "output_type": "stream",
     "text": [
      "0.7715703810933143\n"
     ]
    }
   ],
   "source": [
    "print(r2_score(y_test,y_pred_lr))"
   ]
  },
  {
   "cell_type": "code",
   "execution_count": 17,
   "id": "17eba16a",
   "metadata": {
    "execution": {
     "iopub.execute_input": "2022-07-29T08:01:58.084361Z",
     "iopub.status.busy": "2022-07-29T08:01:58.083923Z",
     "iopub.status.idle": "2022-07-29T08:01:58.090296Z",
     "shell.execute_reply": "2022-07-29T08:01:58.088851Z"
    },
    "papermill": {
     "duration": 0.024845,
     "end_time": "2022-07-29T08:01:58.092444",
     "exception": false,
     "start_time": "2022-07-29T08:01:58.067599",
     "status": "completed"
    },
    "tags": []
   },
   "outputs": [
    {
     "name": "stdout",
     "output_type": "stream",
     "text": [
      "[10.72522896]\n",
      "********************\n",
      "[[0.91749487]]\n"
     ]
    }
   ],
   "source": [
    "print(lr.intercept_)\n",
    "print('*'*20)\n",
    "print(lr.coef_)"
   ]
  },
  {
   "cell_type": "code",
   "execution_count": 18,
   "id": "5b0dd5d2",
   "metadata": {
    "execution": {
     "iopub.execute_input": "2022-07-29T08:01:58.124306Z",
     "iopub.status.busy": "2022-07-29T08:01:58.123589Z",
     "iopub.status.idle": "2022-07-29T08:01:58.136106Z",
     "shell.execute_reply": "2022-07-29T08:01:58.135306Z"
    },
    "papermill": {
     "duration": 0.030704,
     "end_time": "2022-07-29T08:01:58.138103",
     "exception": false,
     "start_time": "2022-07-29T08:01:58.107399",
     "status": "completed"
    },
    "tags": []
   },
   "outputs": [
    {
     "data": {
      "text/html": [
       "<div>\n",
       "<style scoped>\n",
       "    .dataframe tbody tr th:only-of-type {\n",
       "        vertical-align: middle;\n",
       "    }\n",
       "\n",
       "    .dataframe tbody tr th {\n",
       "        vertical-align: top;\n",
       "    }\n",
       "\n",
       "    .dataframe thead th {\n",
       "        text-align: right;\n",
       "    }\n",
       "</style>\n",
       "<table border=\"1\" class=\"dataframe\">\n",
       "  <thead>\n",
       "    <tr style=\"text-align: right;\">\n",
       "      <th></th>\n",
       "      <th>Actual</th>\n",
       "      <th>Predicted</th>\n",
       "    </tr>\n",
       "  </thead>\n",
       "  <tbody>\n",
       "    <tr>\n",
       "      <th>0</th>\n",
       "      <td>31.666667</td>\n",
       "      <td>31.623723</td>\n",
       "    </tr>\n",
       "    <tr>\n",
       "      <th>1</th>\n",
       "      <td>12.777778</td>\n",
       "      <td>17.861300</td>\n",
       "    </tr>\n",
       "    <tr>\n",
       "      <th>2</th>\n",
       "      <td>28.333333</td>\n",
       "      <td>32.643162</td>\n",
       "    </tr>\n",
       "    <tr>\n",
       "      <th>3</th>\n",
       "      <td>30.555556</td>\n",
       "      <td>28.055688</td>\n",
       "    </tr>\n",
       "    <tr>\n",
       "      <th>4</th>\n",
       "      <td>22.222222</td>\n",
       "      <td>16.841861</td>\n",
       "    </tr>\n",
       "    <tr>\n",
       "      <th>...</th>\n",
       "      <td>...</td>\n",
       "      <td>...</td>\n",
       "    </tr>\n",
       "    <tr>\n",
       "      <th>35707</th>\n",
       "      <td>27.222222</td>\n",
       "      <td>31.114004</td>\n",
       "    </tr>\n",
       "    <tr>\n",
       "      <th>35708</th>\n",
       "      <td>8.888889</td>\n",
       "      <td>12.764106</td>\n",
       "    </tr>\n",
       "    <tr>\n",
       "      <th>35709</th>\n",
       "      <td>30.000000</td>\n",
       "      <td>33.662601</td>\n",
       "    </tr>\n",
       "    <tr>\n",
       "      <th>35710</th>\n",
       "      <td>27.777778</td>\n",
       "      <td>27.545968</td>\n",
       "    </tr>\n",
       "    <tr>\n",
       "      <th>35711</th>\n",
       "      <td>32.222222</td>\n",
       "      <td>32.643162</td>\n",
       "    </tr>\n",
       "  </tbody>\n",
       "</table>\n",
       "<p>35712 rows × 2 columns</p>\n",
       "</div>"
      ],
      "text/plain": [
       "          Actual  Predicted\n",
       "0      31.666667  31.623723\n",
       "1      12.777778  17.861300\n",
       "2      28.333333  32.643162\n",
       "3      30.555556  28.055688\n",
       "4      22.222222  16.841861\n",
       "...          ...        ...\n",
       "35707  27.222222  31.114004\n",
       "35708   8.888889  12.764106\n",
       "35709  30.000000  33.662601\n",
       "35710  27.777778  27.545968\n",
       "35711  32.222222  32.643162\n",
       "\n",
       "[35712 rows x 2 columns]"
      ]
     },
     "execution_count": 18,
     "metadata": {},
     "output_type": "execute_result"
    }
   ],
   "source": [
    "df = pd.DataFrame({'Actual': y_test.flatten(), 'Predicted': y_pred_lr.flatten()})\n",
    "df"
   ]
  },
  {
   "cell_type": "code",
   "execution_count": 19,
   "id": "7e9079aa",
   "metadata": {
    "execution": {
     "iopub.execute_input": "2022-07-29T08:01:58.170089Z",
     "iopub.status.busy": "2022-07-29T08:01:58.169412Z",
     "iopub.status.idle": "2022-07-29T08:01:58.520451Z",
     "shell.execute_reply": "2022-07-29T08:01:58.519387Z"
    },
    "papermill": {
     "duration": 0.369737,
     "end_time": "2022-07-29T08:01:58.522803",
     "exception": false,
     "start_time": "2022-07-29T08:01:58.153066",
     "status": "completed"
    },
    "tags": []
   },
   "outputs": [
    {
     "data": {
      "image/png": "[encoded data removed]",
      "text/plain": [
       "<Figure size 1152x720 with 1 Axes>"
      ]
     },
     "metadata": {
      "needs_background": "light"
     },
     "output_type": "display_data"
    }
   ],
   "source": [
    "df1 = df.head(25)\n",
    "df1.plot(kind='bar',figsize=(16,10))\n",
    "plt.grid(which='major', linestyle='-', linewidth='0.1', color='grey')\n",
    "plt.grid(which='minor', linestyle=':', linewidth='0.1', color='grey')\n",
    "plt.show()"
   ]
  },
  {
   "cell_type": "code",
   "execution_count": 20,
   "id": "3aa2209d",
   "metadata": {
    "execution": {
     "iopub.execute_input": "2022-07-29T08:01:58.555241Z",
     "iopub.status.busy": "2022-07-29T08:01:58.554827Z",
     "iopub.status.idle": "2022-07-29T08:01:58.564340Z",
     "shell.execute_reply": "2022-07-29T08:01:58.563175Z"
    },
    "papermill": {
     "duration": 0.028503,
     "end_time": "2022-07-29T08:01:58.566727",
     "exception": false,
     "start_time": "2022-07-29T08:01:58.538224",
     "status": "completed"
    },
    "tags": []
   },
   "outputs": [
    {
     "name": "stdout",
     "output_type": "stream",
     "text": [
      "Mean Absolute Error: 3.1744838160702313\n",
      "Mean Squared Error: 17.277988157372207\n",
      "Root Mean Squared Error: 4.156679944062594\n"
     ]
    }
   ],
   "source": [
    "print('Mean Absolute Error:', metrics.mean_absolute_error(y_test, y_pred_lr))  \n",
    "print('Mean Squared Error:', metrics.mean_squared_error(y_test, y_pred_lr))  \n",
    "print('Root Mean Squared Error:', np.sqrt(metrics.mean_squared_error(y_test, y_pred_lr)))"
   ]
  },
  {
   "cell_type": "code",
   "execution_count": 21,
   "id": "4b3dad37",
   "metadata": {
    "execution": {
     "iopub.execute_input": "2022-07-29T08:01:58.599210Z",
     "iopub.status.busy": "2022-07-29T08:01:58.598412Z",
     "iopub.status.idle": "2022-07-29T08:01:58.825017Z",
     "shell.execute_reply": "2022-07-29T08:01:58.824095Z"
    },
    "papermill": {
     "duration": 0.245302,
     "end_time": "2022-07-29T08:01:58.827147",
     "exception": false,
     "start_time": "2022-07-29T08:01:58.581845",
     "status": "completed"
    },
    "tags": []
   },
   "outputs": [
    {
     "data": {
      "image/png": "[encoded data removed]",
      "text/plain": [
       "<Figure size 432x288 with 1 Axes>"
      ]
     },
     "metadata": {
      "needs_background": "light"
     },
     "output_type": "display_data"
    }
   ],
   "source": [
    "plt.scatter(x_test, y_test,  color='grey')\n",
    "plt.plot(x_test, y_pred_lr, color='purple', linewidth=1)\n",
    "plt.show()"
   ]
  },
  {
   "cell_type": "code",
   "execution_count": 22,
   "id": "dbd63efd",
   "metadata": {
    "execution": {
     "iopub.execute_input": "2022-07-29T08:01:58.860823Z",
     "iopub.status.busy": "2022-07-29T08:01:58.860055Z",
     "iopub.status.idle": "2022-07-29T08:01:58.922224Z",
     "shell.execute_reply": "2022-07-29T08:01:58.921168Z"
    },
    "papermill": {
     "duration": 0.08234,
     "end_time": "2022-07-29T08:01:58.925595",
     "exception": false,
     "start_time": "2022-07-29T08:01:58.843255",
     "status": "completed"
    },
    "tags": []
   },
   "outputs": [
    {
     "data": {
      "text/html": [
       "<table class=\"simpletable\">\n",
       "<caption>OLS Regression Results</caption>\n",
       "<tr>\n",
       "  <th>Dep. Variable:</th>            <td>y</td>        <th>  R-squared (uncentered):</th>       <td>   0.953</td>  \n",
       "</tr>\n",
       "<tr>\n",
       "  <th>Model:</th>                   <td>OLS</td>       <th>  Adj. R-squared (uncentered):</th>  <td>   0.953</td>  \n",
       "</tr>\n",
       "<tr>\n",
       "  <th>Method:</th>             <td>Least Squares</td>  <th>  F-statistic:       </th>           <td>1.675e+06</td> \n",
       "</tr>\n",
       "<tr>\n",
       "  <th>Date:</th>             <td>Fri, 29 Jul 2022</td> <th>  Prob (F-statistic):</th>            <td>  0.00</td>   \n",
       "</tr>\n",
       "<tr>\n",
       "  <th>Time:</th>                 <td>08:01:58</td>     <th>  Log-Likelihood:    </th>          <td>-2.7004e+05</td>\n",
       "</tr>\n",
       "<tr>\n",
       "  <th>No. Observations:</th>      <td> 83328</td>      <th>  AIC:               </th>           <td>5.401e+05</td> \n",
       "</tr>\n",
       "<tr>\n",
       "  <th>Df Residuals:</th>          <td> 83327</td>      <th>  BIC:               </th>           <td>5.401e+05</td> \n",
       "</tr>\n",
       "<tr>\n",
       "  <th>Df Model:</th>              <td>     1</td>      <th>                     </th>               <td> </td>     \n",
       "</tr>\n",
       "<tr>\n",
       "  <th>Covariance Type:</th>      <td>nonrobust</td>    <th>                     </th>               <td> </td>     \n",
       "</tr>\n",
       "</table>\n",
       "<table class=\"simpletable\">\n",
       "<tr>\n",
       "   <td></td>     <th>coef</th>     <th>std err</th>      <th>t</th>      <th>P>|t|</th>  <th>[0.025</th>    <th>0.975]</th>  \n",
       "</tr>\n",
       "<tr>\n",
       "  <th>x1</th> <td>    1.4118</td> <td>    0.001</td> <td> 1294.354</td> <td> 0.000</td> <td>    1.410</td> <td>    1.414</td>\n",
       "</tr>\n",
       "</table>\n",
       "<table class=\"simpletable\">\n",
       "<tr>\n",
       "  <th>Omnibus:</th>       <td>11317.203</td> <th>  Durbin-Watson:     </th> <td>   1.797</td> \n",
       "</tr>\n",
       "<tr>\n",
       "  <th>Prob(Omnibus):</th>  <td> 0.000</td>   <th>  Jarque-Bera (JB):  </th> <td>25366.673</td>\n",
       "</tr>\n",
       "<tr>\n",
       "  <th>Skew:</th>           <td> 0.811</td>   <th>  Prob(JB):          </th> <td>    0.00</td> \n",
       "</tr>\n",
       "<tr>\n",
       "  <th>Kurtosis:</th>       <td> 5.162</td>   <th>  Cond. No.          </th> <td>    1.00</td> \n",
       "</tr>\n",
       "</table><br/><br/>Notes:<br/>[1] R² is computed without centering (uncentered) since the model does not contain a constant.<br/>[2] Standard Errors assume that the covariance matrix of the errors is correctly specified."
      ],
      "text/plain": [
       "<class 'statsmodels.iolib.summary.Summary'>\n",
       "\"\"\"\n",
       "                                 OLS Regression Results                                \n",
       "=======================================================================================\n",
       "Dep. Variable:                      y   R-squared (uncentered):                   0.953\n",
       "Model:                            OLS   Adj. R-squared (uncentered):              0.953\n",
       "Method:                 Least Squares   F-statistic:                          1.675e+06\n",
       "Date:                Fri, 29 Jul 2022   Prob (F-statistic):                        0.00\n",
       "Time:                        08:01:58   Log-Likelihood:                     -2.7004e+05\n",
       "No. Observations:               83328   AIC:                                  5.401e+05\n",
       "Df Residuals:                   83327   BIC:                                  5.401e+05\n",
       "Df Model:                           1                                                  \n",
       "Covariance Type:            nonrobust                                                  \n",
       "==============================================================================\n",
       "                 coef    std err          t      P>|t|      [0.025      0.975]\n",
       "------------------------------------------------------------------------------\n",
       "x1             1.4118      0.001   1294.354      0.000       1.410       1.414\n",
       "==============================================================================\n",
       "Omnibus:                    11317.203   Durbin-Watson:                   1.797\n",
       "Prob(Omnibus):                  0.000   Jarque-Bera (JB):            25366.673\n",
       "Skew:                           0.811   Prob(JB):                         0.00\n",
       "Kurtosis:                       5.162   Cond. No.                         1.00\n",
       "==============================================================================\n",
       "\n",
       "Notes:\n",
       "[1] R² is computed without centering (uncentered) since the model does not contain a constant.\n",
       "[2] Standard Errors assume that the covariance matrix of the errors is correctly specified.\n",
       "\"\"\""
      ]
     },
     "execution_count": 22,
     "metadata": {},
     "output_type": "execute_result"
    }
   ],
   "source": [
    "lr_model=sf.OLS(endog=y_train,exog=x_train).fit()\n",
    "lr_model.summary()"
   ]
  },
  {
   "cell_type": "code",
   "execution_count": 23,
   "id": "51cb00e4",
   "metadata": {
    "execution": {
     "iopub.execute_input": "2022-07-29T08:01:59.028307Z",
     "iopub.status.busy": "2022-07-29T08:01:59.027886Z",
     "iopub.status.idle": "2022-07-29T08:02:00.805214Z",
     "shell.execute_reply": "2022-07-29T08:02:00.804049Z"
    },
    "papermill": {
     "duration": 1.827854,
     "end_time": "2022-07-29T08:02:00.807891",
     "exception": false,
     "start_time": "2022-07-29T08:01:58.980037",
     "status": "completed"
    },
    "tags": []
   },
   "outputs": [
    {
     "data": {
      "image/png": "[encoded data removed]",
      "text/plain": [
       "<Figure size 432x288 with 1 Axes>"
      ]
     },
     "metadata": {
      "needs_background": "light"
     },
     "output_type": "display_data"
    }
   ],
   "source": [
    "import operator\n",
    "plt.scatter(x_train, y_train, s=100)\n",
    "sort_axis = operator.itemgetter(0)\n",
    "sorted_zip = sorted(zip(x_train,y_pred_lr), key=sort_axis)\n",
    "x_test, y_pred_lr = zip(*sorted_zip)\n",
    "plt.plot(x_train, y_train, color='g')\n",
    "plt.show()"
   ]
  },
  {
   "cell_type": "markdown",
   "id": "aa9c808e",
   "metadata": {
    "papermill": {
     "duration": 0.016563,
     "end_time": "2022-07-29T08:02:00.841030",
     "exception": false,
     "start_time": "2022-07-29T08:02:00.824467",
     "status": "completed"
    },
    "tags": []
   },
   "source": [
    "# POLYNOMIAL REGRESSION"
   ]
  },
  {
   "cell_type": "code",
   "execution_count": 24,
   "id": "5f329f31",
   "metadata": {
    "execution": {
     "iopub.execute_input": "2022-07-29T08:02:00.875461Z",
     "iopub.status.busy": "2022-07-29T08:02:00.875072Z",
     "iopub.status.idle": "2022-07-29T08:02:00.903929Z",
     "shell.execute_reply": "2022-07-29T08:02:00.902857Z"
    },
    "papermill": {
     "duration": 0.048766,
     "end_time": "2022-07-29T08:02:00.906081",
     "exception": false,
     "start_time": "2022-07-29T08:02:00.857315",
     "status": "completed"
    },
    "tags": []
   },
   "outputs": [
    {
     "data": {
      "text/plain": [
       "LinearRegression()"
      ]
     },
     "execution_count": 24,
     "metadata": {},
     "output_type": "execute_result"
    }
   ],
   "source": [
    "poly=PolynomialFeatures(degree=4)\n",
    "poly_df=poly.fit_transform(x_train)\n",
    "lin=LinearRegression()\n",
    "lin.fit(poly_df,y_train)"
   ]
  },
  {
   "cell_type": "code",
   "execution_count": 25,
   "id": "b2b13776",
   "metadata": {
    "execution": {
     "iopub.execute_input": "2022-07-29T08:02:00.941054Z",
     "iopub.status.busy": "2022-07-29T08:02:00.940301Z",
     "iopub.status.idle": "2022-07-29T08:02:00.947009Z",
     "shell.execute_reply": "2022-07-29T08:02:00.945769Z"
    },
    "papermill": {
     "duration": 0.028631,
     "end_time": "2022-07-29T08:02:00.951191",
     "exception": false,
     "start_time": "2022-07-29T08:02:00.922560",
     "status": "completed"
    },
    "tags": []
   },
   "outputs": [],
   "source": [
    "y_pred_poly=lin.predict(poly_df)"
   ]
  },
  {
   "cell_type": "code",
   "execution_count": 26,
   "id": "f0f8896e",
   "metadata": {
    "execution": {
     "iopub.execute_input": "2022-07-29T08:02:01.018000Z",
     "iopub.status.busy": "2022-07-29T08:02:01.017233Z",
     "iopub.status.idle": "2022-07-29T08:02:01.027604Z",
     "shell.execute_reply": "2022-07-29T08:02:01.026099Z"
    },
    "papermill": {
     "duration": 0.050563,
     "end_time": "2022-07-29T08:02:01.034079",
     "exception": false,
     "start_time": "2022-07-29T08:02:00.983516",
     "status": "completed"
    },
    "tags": []
   },
   "outputs": [
    {
     "name": "stdout",
     "output_type": "stream",
     "text": [
      "0.7967273698904817\n"
     ]
    }
   ],
   "source": [
    "print(r2_score(y_train,y_pred_poly))"
   ]
  },
  {
   "cell_type": "code",
   "execution_count": 27,
   "id": "93d8a773",
   "metadata": {
    "execution": {
     "iopub.execute_input": "2022-07-29T08:02:01.084624Z",
     "iopub.status.busy": "2022-07-29T08:02:01.084268Z",
     "iopub.status.idle": "2022-07-29T08:02:02.536375Z",
     "shell.execute_reply": "2022-07-29T08:02:02.535155Z"
    },
    "papermill": {
     "duration": 1.473153,
     "end_time": "2022-07-29T08:02:02.539129",
     "exception": false,
     "start_time": "2022-07-29T08:02:01.065976",
     "status": "completed"
    },
    "tags": []
   },
   "outputs": [
    {
     "data": {
      "image/png": "[encoded data removed]",
      "text/plain": [
       "<Figure size 432x288 with 1 Axes>"
      ]
     },
     "metadata": {
      "needs_background": "light"
     },
     "output_type": "display_data"
    }
   ],
   "source": [
    "plt.scatter(x_train, y_train, s=50)\n",
    "sort_axis = operator.itemgetter(0)\n",
    "sorted_zip = sorted(zip(x_train,y_pred_poly), key=sort_axis)\n",
    "x_train,y_pred_poly= zip(*sorted_zip)\n",
    "plt.plot(x_train,y_pred_poly, color='m')\n",
    "plt.show()"
   ]
  },
  {
   "cell_type": "markdown",
   "id": "4eee3414",
   "metadata": {
    "papermill": {
     "duration": 0.016764,
     "end_time": "2022-07-29T08:02:02.572944",
     "exception": false,
     "start_time": "2022-07-29T08:02:02.556180",
     "status": "completed"
    },
    "tags": []
   },
   "source": [
    "# XGBOOST REGRESSION"
   ]
  },
  {
   "cell_type": "code",
   "execution_count": 28,
   "id": "1e8849c5",
   "metadata": {
    "execution": {
     "iopub.execute_input": "2022-07-29T08:02:02.609169Z",
     "iopub.status.busy": "2022-07-29T08:02:02.608481Z",
     "iopub.status.idle": "2022-07-29T08:02:22.247949Z",
     "shell.execute_reply": "2022-07-29T08:02:22.247160Z"
    },
    "papermill": {
     "duration": 19.660103,
     "end_time": "2022-07-29T08:02:22.250074",
     "exception": false,
     "start_time": "2022-07-29T08:02:02.589971",
     "status": "completed"
    },
    "tags": []
   },
   "outputs": [
    {
     "data": {
      "text/plain": [
       "XGBRegressor(base_score=0.5, booster='gbtree', callbacks=None,\n",
       "             colsample_bylevel=1, colsample_bynode=1, colsample_bytree=0.8,\n",
       "             early_stopping_rounds=None, enable_categorical=False, eta=0.1,\n",
       "             eval_metric=None, gamma=0, gpu_id=-1, grow_policy='depthwise',\n",
       "             importance_type=None, interaction_constraints='',\n",
       "             learning_rate=0.100000001, max_bin=256, max_cat_to_onehot=4,\n",
       "             max_delta_step=0, max_depth=7, max_leaves=0, min_child_weight=1,\n",
       "             missing=nan, monotone_constraints='()', n_estimators=1000,\n",
       "             n_jobs=0, num_parallel_tree=1, predictor='auto', random_state=0,\n",
       "             reg_alpha=0, ...)"
      ]
     },
     "execution_count": 28,
     "metadata": {},
     "output_type": "execute_result"
    }
   ],
   "source": [
    "xgb= XGBRegressor(objective ='reg:squarederror',n_estimators=1000, max_depth=7, eta=0.1, subsample=0.7, colsample_bytree=0.8)\n",
    "xgb.fit(x_train,y_train)"
   ]
  },
  {
   "cell_type": "code",
   "execution_count": 29,
   "id": "99f71e92",
   "metadata": {
    "execution": {
     "iopub.execute_input": "2022-07-29T08:02:22.286154Z",
     "iopub.status.busy": "2022-07-29T08:02:22.285522Z",
     "iopub.status.idle": "2022-07-29T08:02:22.684652Z",
     "shell.execute_reply": "2022-07-29T08:02:22.683691Z"
    },
    "papermill": {
     "duration": 0.420027,
     "end_time": "2022-07-29T08:02:22.687450",
     "exception": false,
     "start_time": "2022-07-29T08:02:22.267423",
     "status": "completed"
    },
    "tags": []
   },
   "outputs": [],
   "source": [
    "y_pred_xgb=xgb.predict(x_test)"
   ]
  },
  {
   "cell_type": "code",
   "execution_count": 30,
   "id": "4e7ab0e4",
   "metadata": {
    "execution": {
     "iopub.execute_input": "2022-07-29T08:02:22.726290Z",
     "iopub.status.busy": "2022-07-29T08:02:22.725938Z",
     "iopub.status.idle": "2022-07-29T08:02:22.732401Z",
     "shell.execute_reply": "2022-07-29T08:02:22.731419Z"
    },
    "papermill": {
     "duration": 0.027882,
     "end_time": "2022-07-29T08:02:22.734898",
     "exception": false,
     "start_time": "2022-07-29T08:02:22.707016",
     "status": "completed"
    },
    "tags": []
   },
   "outputs": [
    {
     "name": "stdout",
     "output_type": "stream",
     "text": [
      "-0.0013987502040049282\n"
     ]
    }
   ],
   "source": [
    "print(r2_score(y_test,y_pred_xgb))"
   ]
  },
  {
   "cell_type": "code",
   "execution_count": 31,
   "id": "eae826b4",
   "metadata": {
    "execution": {
     "iopub.execute_input": "2022-07-29T08:02:22.772155Z",
     "iopub.status.busy": "2022-07-29T08:02:22.771746Z",
     "iopub.status.idle": "2022-07-29T08:02:23.692353Z",
     "shell.execute_reply": "2022-07-29T08:02:23.691450Z"
    },
    "papermill": {
     "duration": 0.943362,
     "end_time": "2022-07-29T08:02:23.695925",
     "exception": false,
     "start_time": "2022-07-29T08:02:22.752563",
     "status": "completed"
    },
    "tags": []
   },
   "outputs": [
    {
     "name": "stdout",
     "output_type": "stream",
     "text": [
      "0.001459675948380812 8.720239879325174 27.028669834856075 27.026669\n"
     ]
    }
   ],
   "source": [
    "y_train_hat = xgb.predict(x_train)\n",
    "train_r2 = metrics.r2_score(y_true=y_train, y_pred=y_train_hat)\n",
    "train_rmse = np.sqrt(mean_squared_error(y_train, y_train_hat))\n",
    "print (train_r2, train_rmse, y_train.mean(), y_train_hat.mean())"
   ]
  },
  {
   "cell_type": "markdown",
   "id": "a67f06d5",
   "metadata": {
    "papermill": {
     "duration": 0.016894,
     "end_time": "2022-07-29T08:02:23.731621",
     "exception": false,
     "start_time": "2022-07-29T08:02:23.714727",
     "status": "completed"
    },
    "tags": []
   },
   "source": [
    "# DECISION TREE REGRESSION"
   ]
  },
  {
   "cell_type": "code",
   "execution_count": 32,
   "id": "3b7bde65",
   "metadata": {
    "execution": {
     "iopub.execute_input": "2022-07-29T08:02:23.768602Z",
     "iopub.status.busy": "2022-07-29T08:02:23.768241Z",
     "iopub.status.idle": "2022-07-29T08:02:23.860214Z",
     "shell.execute_reply": "2022-07-29T08:02:23.859160Z"
    },
    "papermill": {
     "duration": 0.113647,
     "end_time": "2022-07-29T08:02:23.862696",
     "exception": false,
     "start_time": "2022-07-29T08:02:23.749049",
     "status": "completed"
    },
    "tags": []
   },
   "outputs": [
    {
     "data": {
      "text/plain": [
       "DecisionTreeRegressor()"
      ]
     },
     "execution_count": 32,
     "metadata": {},
     "output_type": "execute_result"
    }
   ],
   "source": [
    "dt=DecisionTreeRegressor()\n",
    "dt.fit(x_train,y_train)"
   ]
  },
  {
   "cell_type": "code",
   "execution_count": 33,
   "id": "d06875a0",
   "metadata": {
    "execution": {
     "iopub.execute_input": "2022-07-29T08:02:23.900356Z",
     "iopub.status.busy": "2022-07-29T08:02:23.899954Z",
     "iopub.status.idle": "2022-07-29T08:02:23.970942Z",
     "shell.execute_reply": "2022-07-29T08:02:23.969823Z"
    },
    "papermill": {
     "duration": 0.092709,
     "end_time": "2022-07-29T08:02:23.973496",
     "exception": false,
     "start_time": "2022-07-29T08:02:23.880787",
     "status": "completed"
    },
    "tags": []
   },
   "outputs": [],
   "source": [
    "y_pred_dt=dt.predict(x_train)"
   ]
  },
  {
   "cell_type": "code",
   "execution_count": 34,
   "id": "f81c5853",
   "metadata": {
    "execution": {
     "iopub.execute_input": "2022-07-29T08:02:24.010689Z",
     "iopub.status.busy": "2022-07-29T08:02:24.010306Z",
     "iopub.status.idle": "2022-07-29T08:02:25.185514Z",
     "shell.execute_reply": "2022-07-29T08:02:25.184434Z"
    },
    "papermill": {
     "duration": 1.196686,
     "end_time": "2022-07-29T08:02:25.187749",
     "exception": false,
     "start_time": "2022-07-29T08:02:23.991063",
     "status": "completed"
    },
    "tags": []
   },
   "outputs": [
    {
     "data": {
      "image/png": "[encoded data removed]",
      "text/plain": [
       "<Figure size 432x288 with 1 Axes>"
      ]
     },
     "metadata": {
      "needs_background": "light"
     },
     "output_type": "display_data"
    }
   ],
   "source": [
    "plt.scatter(x_train,y_train, color=\"red\")\n",
    "X_grid = np.arange(min(np.array(x_train)),max(np.array(x_train)), 0.01)  \n",
    "X_grid = X_grid.reshape((len(X_grid), 1))\n",
    "plt.plot(X_grid,dt.predict(X_grid),color=\"g\")\n",
    "plt.xlabel(\"MaxTemp\")\n",
    "plt.ylabel(\"MinTemp\")\n",
    "plt.title(\"Decision Tree Model\")\n",
    "plt.show()"
   ]
  },
  {
   "cell_type": "code",
   "execution_count": 35,
   "id": "8de50752",
   "metadata": {
    "execution": {
     "iopub.execute_input": "2022-07-29T08:02:25.225010Z",
     "iopub.status.busy": "2022-07-29T08:02:25.224278Z",
     "iopub.status.idle": "2022-07-29T08:02:25.231922Z",
     "shell.execute_reply": "2022-07-29T08:02:25.230604Z"
    },
    "papermill": {
     "duration": 0.028873,
     "end_time": "2022-07-29T08:02:25.234097",
     "exception": false,
     "start_time": "2022-07-29T08:02:25.205224",
     "status": "completed"
    },
    "tags": []
   },
   "outputs": [
    {
     "name": "stdout",
     "output_type": "stream",
     "text": [
      "0.0014868814934215768\n"
     ]
    }
   ],
   "source": [
    "print(r2_score(y_train,y_pred_dt))"
   ]
  },
  {
   "cell_type": "markdown",
   "id": "de4aa8e6",
   "metadata": {
    "papermill": {
     "duration": 0.017513,
     "end_time": "2022-07-29T08:02:25.269871",
     "exception": false,
     "start_time": "2022-07-29T08:02:25.252358",
     "status": "completed"
    },
    "tags": []
   },
   "source": [
    "# RANDOM FOREST REGRESSION"
   ]
  },
  {
   "cell_type": "code",
   "execution_count": 36,
   "id": "18b02c33",
   "metadata": {
    "execution": {
     "iopub.execute_input": "2022-07-29T08:02:25.307240Z",
     "iopub.status.busy": "2022-07-29T08:02:25.306801Z",
     "iopub.status.idle": "2022-07-29T08:02:28.123503Z",
     "shell.execute_reply": "2022-07-29T08:02:28.122760Z"
    },
    "papermill": {
     "duration": 2.837941,
     "end_time": "2022-07-29T08:02:28.125444",
     "exception": false,
     "start_time": "2022-07-29T08:02:25.287503",
     "status": "completed"
    },
    "tags": []
   },
   "outputs": [
    {
     "data": {
      "text/plain": [
       "RandomForestRegressor()"
      ]
     },
     "execution_count": 36,
     "metadata": {},
     "output_type": "execute_result"
    }
   ],
   "source": [
    "rf=RandomForestRegressor()\n",
    "rf.fit(x_train,y_train)"
   ]
  },
  {
   "cell_type": "code",
   "execution_count": 37,
   "id": "77c0ea43",
   "metadata": {
    "execution": {
     "iopub.execute_input": "2022-07-29T08:02:28.162766Z",
     "iopub.status.busy": "2022-07-29T08:02:28.162211Z",
     "iopub.status.idle": "2022-07-29T08:02:28.495291Z",
     "shell.execute_reply": "2022-07-29T08:02:28.494423Z"
    },
    "papermill": {
     "duration": 0.354775,
     "end_time": "2022-07-29T08:02:28.497943",
     "exception": false,
     "start_time": "2022-07-29T08:02:28.143168",
     "status": "completed"
    },
    "tags": []
   },
   "outputs": [],
   "source": [
    "y_pred_rf=rf.predict(x_train)"
   ]
  },
  {
   "cell_type": "code",
   "execution_count": 38,
   "id": "46973ddb",
   "metadata": {
    "execution": {
     "iopub.execute_input": "2022-07-29T08:02:28.535078Z",
     "iopub.status.busy": "2022-07-29T08:02:28.534677Z",
     "iopub.status.idle": "2022-07-29T08:02:29.709828Z",
     "shell.execute_reply": "2022-07-29T08:02:29.709098Z"
    },
    "papermill": {
     "duration": 1.196173,
     "end_time": "2022-07-29T08:02:29.711913",
     "exception": false,
     "start_time": "2022-07-29T08:02:28.515740",
     "status": "completed"
    },
    "tags": []
   },
   "outputs": [
    {
     "data": {
      "image/png": "[encoded data removed]",
      "text/plain": [
       "<Figure size 432x288 with 1 Axes>"
      ]
     },
     "metadata": {
      "needs_background": "light"
     },
     "output_type": "display_data"
    }
   ],
   "source": [
    "plt.scatter(x_train,y_train, color=\"red\")\n",
    "X_grid = np.arange(min(np.array(x_train)),max(np.array(x_train)), 0.01)  \n",
    "X_grid = X_grid.reshape((len(X_grid), 1))\n",
    "plt.plot(X_grid,rf.predict(X_grid),color=\"g\")\n",
    "plt.xlabel(\"MinTemp\")\n",
    "plt.ylabel(\"MaxTemp\")\n",
    "plt.title(\"Random Forest Model\")\n",
    "plt.show()"
   ]
  },
  {
   "cell_type": "code",
   "execution_count": 39,
   "id": "5d2f00c7",
   "metadata": {
    "execution": {
     "iopub.execute_input": "2022-07-29T08:02:29.751187Z",
     "iopub.status.busy": "2022-07-29T08:02:29.750323Z",
     "iopub.status.idle": "2022-07-29T08:02:29.758031Z",
     "shell.execute_reply": "2022-07-29T08:02:29.756914Z"
    },
    "papermill": {
     "duration": 0.030795,
     "end_time": "2022-07-29T08:02:29.761619",
     "exception": false,
     "start_time": "2022-07-29T08:02:29.730824",
     "status": "completed"
    },
    "tags": []
   },
   "outputs": [
    {
     "name": "stdout",
     "output_type": "stream",
     "text": [
      "0.0014706903531455096\n"
     ]
    }
   ],
   "source": [
    "print(r2_score(y_train,y_pred_rf))"
   ]
  },
  {
   "cell_type": "markdown",
   "id": "d01e0bc5",
   "metadata": {
    "papermill": {
     "duration": 0.018194,
     "end_time": "2022-07-29T08:02:29.799277",
     "exception": false,
     "start_time": "2022-07-29T08:02:29.781083",
     "status": "completed"
    },
    "tags": []
   },
   "source": [
    "# DEEP NEURAL NETWORK"
   ]
  },
  {
   "cell_type": "code",
   "execution_count": 40,
   "id": "b21ef958",
   "metadata": {
    "execution": {
     "iopub.execute_input": "2022-07-29T08:02:29.838353Z",
     "iopub.status.busy": "2022-07-29T08:02:29.837733Z",
     "iopub.status.idle": "2022-07-29T08:02:29.845823Z",
     "shell.execute_reply": "2022-07-29T08:02:29.845077Z"
    },
    "papermill": {
     "duration": 0.029976,
     "end_time": "2022-07-29T08:02:29.848028",
     "exception": false,
     "start_time": "2022-07-29T08:02:29.818052",
     "status": "completed"
    },
    "tags": []
   },
   "outputs": [],
   "source": [
    "sc=StandardScaler()\n",
    "x_std=sc.fit_transform(x)"
   ]
  },
  {
   "cell_type": "code",
   "execution_count": 41,
   "id": "8ab04cfb",
   "metadata": {
    "execution": {
     "iopub.execute_input": "2022-07-29T08:02:29.887749Z",
     "iopub.status.busy": "2022-07-29T08:02:29.886959Z",
     "iopub.status.idle": "2022-07-29T08:02:29.907982Z",
     "shell.execute_reply": "2022-07-29T08:02:29.906936Z"
    },
    "papermill": {
     "duration": 0.04365,
     "end_time": "2022-07-29T08:02:29.911026",
     "exception": false,
     "start_time": "2022-07-29T08:02:29.867376",
     "status": "completed"
    },
    "tags": []
   },
   "outputs": [],
   "source": [
    "x_train,x_test, y_train, y_test = train_test_split(x_std,y, train_size=0.7,random_state=101)"
   ]
  },
  {
   "cell_type": "code",
   "execution_count": 42,
   "id": "e3362842",
   "metadata": {
    "execution": {
     "iopub.execute_input": "2022-07-29T08:02:29.951206Z",
     "iopub.status.busy": "2022-07-29T08:02:29.950789Z",
     "iopub.status.idle": "2022-07-29T08:07:52.361386Z",
     "shell.execute_reply": "2022-07-29T08:07:52.360383Z"
    },
    "papermill": {
     "duration": 322.433511,
     "end_time": "2022-07-29T08:07:52.363375",
     "exception": false,
     "start_time": "2022-07-29T08:02:29.929864",
     "status": "completed"
    },
    "tags": []
   },
   "outputs": [
    {
     "name": "stderr",
     "output_type": "stream",
     "text": [
      "2022-07-29 08:02:31.029368: I tensorflow/core/common_runtime/process_util.cc:146] Creating new thread pool with default inter op setting: 2. Tune using inter_op_parallelism_threads for best performance.\n",
      "2022-07-29 08:02:31.145831: I tensorflow/compiler/mlir/mlir_graph_optimization_pass.cc:185] None of the MLIR Optimization Passes are enabled (registered 2)\n"
     ]
    },
    {
     "name": "stdout",
     "output_type": "stream",
     "text": [
      "Epoch 1/100\n",
      "2604/2604 [==============================] - 4s 1ms/step - loss: 109.3083\n",
      "Epoch 2/100\n",
      "2604/2604 [==============================] - 3s 1ms/step - loss: 15.0913\n",
      "Epoch 3/100\n",
      "2604/2604 [==============================] - 3s 1ms/step - loss: 14.9491\n",
      "Epoch 4/100\n",
      "2604/2604 [==============================] - 3s 1ms/step - loss: 14.8613\n",
      "Epoch 5/100\n",
      "2604/2604 [==============================] - 3s 1ms/step - loss: 14.8102\n",
      "Epoch 6/100\n",
      "2604/2604 [==============================] - 3s 1ms/step - loss: 14.7935\n",
      "Epoch 7/100\n",
      "2604/2604 [==============================] - 4s 1ms/step - loss: 14.7787\n",
      "Epoch 8/100\n",
      "2604/2604 [==============================] - 3s 1ms/step - loss: 14.7713\n",
      "Epoch 9/100\n",
      "2604/2604 [==============================] - 3s 1ms/step - loss: 14.7699\n",
      "Epoch 10/100\n",
      "2604/2604 [==============================] - 3s 1ms/step - loss: 14.7766\n",
      "Epoch 11/100\n",
      "2604/2604 [==============================] - 3s 1ms/step - loss: 14.7749\n",
      "Epoch 12/100\n",
      "2604/2604 [==============================] - 3s 1ms/step - loss: 14.7648\n",
      "Epoch 13/100\n",
      "2604/2604 [==============================] - 3s 1ms/step - loss: 14.7652\n",
      "Epoch 14/100\n",
      "2604/2604 [==============================] - 3s 1ms/step - loss: 14.7680\n",
      "Epoch 15/100\n",
      "2604/2604 [==============================] - 3s 1ms/step - loss: 14.7614\n",
      "Epoch 16/100\n",
      "2604/2604 [==============================] - 3s 1ms/step - loss: 14.7538\n",
      "Epoch 17/100\n",
      "2604/2604 [==============================] - 4s 1ms/step - loss: 14.7581\n",
      "Epoch 18/100\n",
      "2604/2604 [==============================] - 3s 1ms/step - loss: 14.7586\n",
      "Epoch 19/100\n",
      "2604/2604 [==============================] - 3s 1ms/step - loss: 14.7543\n",
      "Epoch 20/100\n",
      "2604/2604 [==============================] - 3s 1ms/step - loss: 14.7602\n",
      "Epoch 21/100\n",
      "2604/2604 [==============================] - 3s 1ms/step - loss: 14.7505\n",
      "Epoch 22/100\n",
      "2604/2604 [==============================] - 3s 1ms/step - loss: 14.7610\n",
      "Epoch 23/100\n",
      "2604/2604 [==============================] - 3s 1ms/step - loss: 14.7409\n",
      "Epoch 24/100\n",
      "2604/2604 [==============================] - 3s 1ms/step - loss: 14.7474\n",
      "Epoch 25/100\n",
      "2604/2604 [==============================] - 3s 1ms/step - loss: 14.7481\n",
      "Epoch 26/100\n",
      "2604/2604 [==============================] - 3s 1ms/step - loss: 14.7450\n",
      "Epoch 27/100\n",
      "2604/2604 [==============================] - 4s 1ms/step - loss: 14.7474\n",
      "Epoch 28/100\n",
      "2604/2604 [==============================] - 3s 1ms/step - loss: 14.7385\n",
      "Epoch 29/100\n",
      "2604/2604 [==============================] - 3s 1ms/step - loss: 14.7422\n",
      "Epoch 30/100\n",
      "2604/2604 [==============================] - 3s 1ms/step - loss: 14.7393\n",
      "Epoch 31/100\n",
      "2604/2604 [==============================] - 3s 1ms/step - loss: 14.7459\n",
      "Epoch 32/100\n",
      "2604/2604 [==============================] - 3s 1ms/step - loss: 14.7454\n",
      "Epoch 33/100\n",
      "2604/2604 [==============================] - 3s 1ms/step - loss: 14.7354\n",
      "Epoch 34/100\n",
      "2604/2604 [==============================] - 3s 1ms/step - loss: 14.7498\n",
      "Epoch 35/100\n",
      "2604/2604 [==============================] - 3s 1ms/step - loss: 14.7370\n",
      "Epoch 36/100\n",
      "2604/2604 [==============================] - 3s 1ms/step - loss: 14.7319\n",
      "Epoch 37/100\n",
      "2604/2604 [==============================] - 4s 1ms/step - loss: 14.7378\n",
      "Epoch 38/100\n",
      "2604/2604 [==============================] - 3s 1ms/step - loss: 14.7378\n",
      "Epoch 39/100\n",
      "2604/2604 [==============================] - 3s 1ms/step - loss: 14.7275\n",
      "Epoch 40/100\n",
      "2604/2604 [==============================] - 3s 1ms/step - loss: 14.7402\n",
      "Epoch 41/100\n",
      "2604/2604 [==============================] - 3s 1ms/step - loss: 14.7381\n",
      "Epoch 42/100\n",
      "2604/2604 [==============================] - 3s 1ms/step - loss: 14.7312\n",
      "Epoch 43/100\n",
      "2604/2604 [==============================] - 3s 1ms/step - loss: 14.7325\n",
      "Epoch 44/100\n",
      "2604/2604 [==============================] - 3s 1ms/step - loss: 14.7242\n",
      "Epoch 45/100\n",
      "2604/2604 [==============================] - 3s 1ms/step - loss: 14.7371\n",
      "Epoch 46/100\n",
      "2604/2604 [==============================] - 3s 1ms/step - loss: 14.7361\n",
      "Epoch 47/100\n",
      "2604/2604 [==============================] - 3s 1ms/step - loss: 14.7317\n",
      "Epoch 48/100\n",
      "2604/2604 [==============================] - 4s 1ms/step - loss: 14.7304\n",
      "Epoch 49/100\n",
      "2604/2604 [==============================] - 3s 1ms/step - loss: 14.7243\n",
      "Epoch 50/100\n",
      "2604/2604 [==============================] - 3s 1ms/step - loss: 14.7294\n",
      "Epoch 51/100\n",
      "2604/2604 [==============================] - 3s 1ms/step - loss: 14.7326\n",
      "Epoch 52/100\n",
      "2604/2604 [==============================] - 3s 1ms/step - loss: 14.7365\n",
      "Epoch 53/100\n",
      "2604/2604 [==============================] - 3s 1ms/step - loss: 14.7337\n",
      "Epoch 54/100\n",
      "2604/2604 [==============================] - 3s 1ms/step - loss: 14.7363\n",
      "Epoch 55/100\n",
      "2604/2604 [==============================] - 3s 1ms/step - loss: 14.7310\n",
      "Epoch 56/100\n",
      "2604/2604 [==============================] - 3s 1ms/step - loss: 14.7269\n",
      "Epoch 57/100\n",
      "2604/2604 [==============================] - 3s 1ms/step - loss: 14.7267\n",
      "Epoch 58/100\n",
      "2604/2604 [==============================] - 4s 1ms/step - loss: 14.7278\n",
      "Epoch 59/100\n",
      "2604/2604 [==============================] - 3s 1ms/step - loss: 14.7265\n",
      "Epoch 60/100\n",
      "2604/2604 [==============================] - 3s 1ms/step - loss: 14.7278\n",
      "Epoch 61/100\n",
      "2604/2604 [==============================] - 3s 1ms/step - loss: 14.7294\n",
      "Epoch 62/100\n",
      "2604/2604 [==============================] - 3s 1ms/step - loss: 14.7332\n",
      "Epoch 63/100\n",
      "2604/2604 [==============================] - 3s 1ms/step - loss: 14.7265\n",
      "Epoch 64/100\n",
      "2604/2604 [==============================] - 3s 1ms/step - loss: 14.7322\n",
      "Epoch 65/100\n",
      "2604/2604 [==============================] - 3s 1ms/step - loss: 14.7222\n",
      "Epoch 66/100\n",
      "2604/2604 [==============================] - 3s 1ms/step - loss: 14.7289\n",
      "Epoch 67/100\n",
      "2604/2604 [==============================] - 3s 1ms/step - loss: 14.7257\n",
      "Epoch 68/100\n",
      "2604/2604 [==============================] - 3s 1ms/step - loss: 14.7338\n",
      "Epoch 69/100\n",
      "2604/2604 [==============================] - 3s 1ms/step - loss: 14.7239\n",
      "Epoch 70/100\n",
      "2604/2604 [==============================] - 3s 1ms/step - loss: 14.7250\n",
      "Epoch 71/100\n",
      "2604/2604 [==============================] - 3s 1ms/step - loss: 14.7324\n",
      "Epoch 72/100\n",
      "2604/2604 [==============================] - 3s 1ms/step - loss: 14.7160\n",
      "Epoch 73/100\n",
      "2604/2604 [==============================] - 3s 1ms/step - loss: 14.7258\n",
      "Epoch 74/100\n",
      "2604/2604 [==============================] - 3s 1ms/step - loss: 14.7303\n",
      "Epoch 75/100\n",
      "2604/2604 [==============================] - 3s 1ms/step - loss: 14.7336\n",
      "Epoch 76/100\n",
      "2604/2604 [==============================] - 3s 1ms/step - loss: 14.7175\n",
      "Epoch 77/100\n",
      "2604/2604 [==============================] - 3s 1ms/step - loss: 14.7249\n",
      "Epoch 78/100\n",
      "2604/2604 [==============================] - 3s 1ms/step - loss: 14.7280\n",
      "Epoch 79/100\n",
      "2604/2604 [==============================] - 3s 1ms/step - loss: 14.7180\n",
      "Epoch 80/100\n",
      "2604/2604 [==============================] - 3s 1ms/step - loss: 14.7215\n",
      "Epoch 81/100\n",
      "2604/2604 [==============================] - 3s 1ms/step - loss: 14.7284\n",
      "Epoch 82/100\n",
      "2604/2604 [==============================] - 3s 1ms/step - loss: 14.7209\n",
      "Epoch 83/100\n",
      "2604/2604 [==============================] - 3s 1ms/step - loss: 14.7195\n",
      "Epoch 84/100\n",
      "2604/2604 [==============================] - 3s 1ms/step - loss: 14.7182\n",
      "Epoch 85/100\n",
      "2604/2604 [==============================] - 3s 1ms/step - loss: 14.7374\n",
      "Epoch 86/100\n",
      "2604/2604 [==============================] - 3s 1ms/step - loss: 14.7315\n",
      "Epoch 87/100\n",
      "2604/2604 [==============================] - 3s 1ms/step - loss: 14.7245\n",
      "Epoch 88/100\n",
      "2604/2604 [==============================] - 3s 1ms/step - loss: 14.7215\n",
      "Epoch 89/100\n",
      "2604/2604 [==============================] - 3s 1ms/step - loss: 14.7248\n",
      "Epoch 90/100\n",
      "2604/2604 [==============================] - 3s 1ms/step - loss: 14.7233\n",
      "Epoch 91/100\n",
      "2604/2604 [==============================] - 3s 1ms/step - loss: 14.7287\n",
      "Epoch 92/100\n",
      "2604/2604 [==============================] - 3s 1ms/step - loss: 14.7199\n",
      "Epoch 93/100\n",
      "2604/2604 [==============================] - 3s 1ms/step - loss: 14.7155\n",
      "Epoch 94/100\n",
      "2604/2604 [==============================] - 3s 1ms/step - loss: 14.7271\n",
      "Epoch 95/100\n",
      "2604/2604 [==============================] - 3s 1ms/step - loss: 14.7236\n",
      "Epoch 96/100\n",
      "2604/2604 [==============================] - 3s 1ms/step - loss: 14.7224\n",
      "Epoch 97/100\n",
      "2604/2604 [==============================] - 3s 1ms/step - loss: 14.7224\n",
      "Epoch 98/100\n",
      "2604/2604 [==============================] - 3s 1ms/step - loss: 14.7285\n",
      "Epoch 99/100\n",
      "2604/2604 [==============================] - 3s 1ms/step - loss: 14.7281\n",
      "Epoch 100/100\n",
      "2604/2604 [==============================] - 3s 1ms/step - loss: 14.7270\n"
     ]
    },
    {
     "data": {
      "text/plain": [
       "<keras.callbacks.History at 0x7fdd3ce4af50>"
      ]
     },
     "execution_count": 42,
     "metadata": {},
     "output_type": "execute_result"
    }
   ],
   "source": [
    "DNN = tf.keras.models.Sequential()\n",
    "DNN.add(tf.keras.layers.Dense(units=10, activation = 'relu'))\n",
    "DNN.add(tf.keras.layers.Dense(units=10, activation = 'relu'))\n",
    "DNN.add(tf.keras.layers.Dense(units=1))\n",
    "DNN.compile(optimizer='adam', loss='mean_squared_error')\n",
    "DNN.fit(x_train, y_train, batch_size=32, epochs = 100)"
   ]
  },
  {
   "cell_type": "code",
   "execution_count": 43,
   "id": "45bde7f8",
   "metadata": {
    "execution": {
     "iopub.execute_input": "2022-07-29T08:07:53.306169Z",
     "iopub.status.busy": "2022-07-29T08:07:53.305423Z",
     "iopub.status.idle": "2022-07-29T08:07:54.245623Z",
     "shell.execute_reply": "2022-07-29T08:07:54.244720Z"
    },
    "papermill": {
     "duration": 1.413321,
     "end_time": "2022-07-29T08:07:54.248088",
     "exception": false,
     "start_time": "2022-07-29T08:07:52.834767",
     "status": "completed"
    },
    "tags": []
   },
   "outputs": [],
   "source": [
    "y_pred_DNN=DNN.predict(x_test)"
   ]
  },
  {
   "cell_type": "code",
   "execution_count": 44,
   "id": "7060fdb0",
   "metadata": {
    "execution": {
     "iopub.execute_input": "2022-07-29T08:07:55.258221Z",
     "iopub.status.busy": "2022-07-29T08:07:55.257834Z",
     "iopub.status.idle": "2022-07-29T08:07:55.265340Z",
     "shell.execute_reply": "2022-07-29T08:07:55.263604Z"
    },
    "papermill": {
     "duration": 0.543814,
     "end_time": "2022-07-29T08:07:55.267605",
     "exception": false,
     "start_time": "2022-07-29T08:07:54.723791",
     "status": "completed"
    },
    "tags": []
   },
   "outputs": [
    {
     "name": "stdout",
     "output_type": "stream",
     "text": [
      "0.8026773877434848\n"
     ]
    }
   ],
   "source": [
    "print(r2_score(y_test,y_pred_DNN))"
   ]
  }
 ],
 "metadata": {
  "kernelspec": {
   "display_name": "Python 3",
   "language": "python",
   "name": "python3"
  },
  "language_info": {
   "codemirror_mode": {
    "name": "ipython",
    "version": 3
   },
   "file_extension": ".py",
   "mimetype": "text/x-python",
   "name": "python",
   "nbconvert_exporter": "python",
   "pygments_lexer": "ipython3",
   "version": "3.7.12"
  },
  "papermill": {
   "default_parameters": {},
   "duration": 381.775144,
   "end_time": "2022-07-29T08:07:58.801266",
   "environment_variables": {},
   "exception": null,
   "input_path": "__notebook__.ipynb",
   "output_path": "__notebook__.ipynb",
   "parameters": {},
   "start_time": "2022-07-29T08:01:37.026122",
   "version": "2.3.4"
  }
 },
 "nbformat": 4,
 "nbformat_minor": 5
}
